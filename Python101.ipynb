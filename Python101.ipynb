{
  "nbformat": 4,
  "nbformat_minor": 0,
  "metadata": {
    "colab": {
      "provenance": [],
      "collapsed_sections": [
        "YrFJUFv1gi0t"
      ],
      "include_colab_link": true
    },
    "kernelspec": {
      "name": "python3",
      "display_name": "Python 3"
    },
    "language_info": {
      "name": "python"
    }
  },
  "cells": [
    {
      "cell_type": "markdown",
      "metadata": {
        "id": "view-in-github",
        "colab_type": "text"
      },
      "source": [
        "<a href=\"https://colab.research.google.com/github/Wipada6430205202/python_dataviz2023/blob/main/Python101.ipynb\" target=\"_parent\"><img src=\"https://colab.research.google.com/assets/colab-badge.svg\" alt=\"Open In Colab\"/></a>"
      ]
    },
    {
      "cell_type": "markdown",
      "source": [
        "ข้อความในช่อง text เป็น ภาษา Markdown (https://www.markdownguide.org/cheat-sheet/)  #ใช้ตกแต่ความสวยงามได้ เช่นเขียนสมการ"
      ],
      "metadata": {
        "id": "dyp-0Cs8pTph"
      }
    },
    {
      "cell_type": "markdown",
      "source": [
        "# การจัดการข้อความในการแสดงผล (Print)\n",
        "  `print(ข้อความ)` = การแสดง Output ออกมาทางหน้าจอ\n",
        "  ---------------------------------------------------------------\n",
        "## string\n",
        "### test heading 3\n",
        "`print(ข้อความ)` #ใช้ในการเน้นโค้ด"
      ],
      "metadata": {
        "id": "stjY3Wz-pZHz"
      }
    },
    {
      "cell_type": "markdown",
      "source": [
        "## ข้อความ (string)\n"
      ],
      "metadata": {
        "id": "lpjwbRJcQpty"
      }
    },
    {
      "cell_type": "code",
      "source": [
        "print('stat')\n",
        "print('SIDS')"
      ],
      "metadata": {
        "colab": {
          "base_uri": "https://localhost:8080/"
        },
        "id": "utdkJE1fpq9v",
        "outputId": "fb4875a5-1680-4278-dd40-17fe84ba5870"
      },
      "execution_count": null,
      "outputs": [
        {
          "output_type": "stream",
          "name": "stdout",
          "text": [
            "stat\n",
            "SIDS\n"
          ]
        }
      ]
    },
    {
      "cell_type": "code",
      "source": [
        "print('stat',end=', ')\n",
        "print('SIDS') # ' quote มี = ข้อความ"
      ],
      "metadata": {
        "colab": {
          "base_uri": "https://localhost:8080/"
        },
        "id": "FB8Pcv-xp0cT",
        "outputId": "cd6c87b2-b7d8-4caf-e178-7ff11cf66ef0"
      },
      "execution_count": null,
      "outputs": [
        {
          "output_type": "stream",
          "name": "stdout",
          "text": [
            "stat, SIDS\n"
          ]
        }
      ]
    },
    {
      "cell_type": "markdown",
      "source": [
        "###Quiz1"
      ],
      "metadata": {
        "id": "syo9Y3pN7tgp"
      }
    },
    {
      "cell_type": "code",
      "source": [
        "print('มา',end = 100*'ก') # \" double quote"
      ],
      "metadata": {
        "colab": {
          "base_uri": "https://localhost:8080/"
        },
        "id": "nJEiTJeYp2Mt",
        "outputId": "c7a13233-bfa2-4849-a66a-d442a7833961"
      },
      "execution_count": null,
      "outputs": [
        {
          "output_type": "stream",
          "name": "stdout",
          "text": [
            "มากกกกกกกกกกกกกกกกกกกกกกกกกกกกกกกกกกกกกกกกกกกกกกกกกกกกกกกกกกกกกกกกกกกกกกกกกกกกกกกกกกกกกกกกกกกกกกกกกกกก"
          ]
        }
      ]
    },
    {
      "cell_type": "markdown",
      "source": [
        "## ผลการรันแสดงออกมา ได้ 2 แบบ\n",
        "1. ถ้าไม่มีตัวแปรมารับ ก็จะแสดงผลออกที่หน้าจอ\n",
        "2. ถ้ามีตัวแปรมารับ ผลการรันก็จะไปอยู่ในตัวแปร"
      ],
      "metadata": {
        "id": "vMW8gPpTQ4yu"
      }
    },
    {
      "cell_type": "code",
      "source": [
        "1+3 # ไม่มีตัวแปรมารับ  /// ตัวเลขบวกตัวเลขได้เลย"
      ],
      "metadata": {
        "colab": {
          "base_uri": "https://localhost:8080/"
        },
        "id": "v0rQ1CHXRSMn",
        "outputId": "6d756df6-adbe-4f7e-e784-38ba0145f621"
      },
      "execution_count": null,
      "outputs": [
        {
          "output_type": "execute_result",
          "data": {
            "text/plain": [
              "4"
            ]
          },
          "metadata": {},
          "execution_count": 12
        }
      ]
    },
    {
      "cell_type": "code",
      "source": [
        "a = 1+3 #มีตัวแปร a มารับผลการบวก"
      ],
      "metadata": {
        "id": "lWOn8HAbRhdK"
      },
      "execution_count": null,
      "outputs": []
    },
    {
      "cell_type": "code",
      "source": [
        "print(a)"
      ],
      "metadata": {
        "colab": {
          "base_uri": "https://localhost:8080/"
        },
        "id": "dfT41NYMRozJ",
        "outputId": "2e3b3595-f56a-40e6-c7fb-0afa485514f0"
      },
      "execution_count": null,
      "outputs": [
        {
          "output_type": "stream",
          "name": "stdout",
          "text": [
            "4\n"
          ]
        }
      ]
    },
    {
      "cell_type": "code",
      "source": [
        "'1'+'3' # string +string คือการต่อ string"
      ],
      "metadata": {
        "colab": {
          "base_uri": "https://localhost:8080/",
          "height": 36
        },
        "id": "lhqZSBjgR_nk",
        "outputId": "0a479298-d802-4d39-fb88-68a2b65a62a0"
      },
      "execution_count": null,
      "outputs": [
        {
          "output_type": "execute_result",
          "data": {
            "text/plain": [
              "'13'"
            ],
            "application/vnd.google.colaboratory.intrinsic+json": {
              "type": "string"
            }
          },
          "metadata": {},
          "execution_count": 15
        }
      ]
    },
    {
      "cell_type": "code",
      "source": [
        "1-3"
      ],
      "metadata": {
        "colab": {
          "base_uri": "https://localhost:8080/"
        },
        "id": "TEQReEjwqPXM",
        "outputId": "07b4df31-8dfe-4ec6-a8d7-569994470dc8"
      },
      "execution_count": null,
      "outputs": [
        {
          "output_type": "execute_result",
          "data": {
            "text/plain": [
              "-2"
            ]
          },
          "metadata": {},
          "execution_count": 16
        }
      ]
    },
    {
      "cell_type": "code",
      "source": [
        "'1'-'3' # string -string  ทำไม่ได้"
      ],
      "metadata": {
        "colab": {
          "base_uri": "https://localhost:8080/",
          "height": 165
        },
        "outputId": "143774f1-cfa3-40a0-9757-5b52f0deff5e",
        "id": "P3LwqiubSRi0"
      },
      "execution_count": null,
      "outputs": [
        {
          "output_type": "error",
          "ename": "TypeError",
          "evalue": "ignored",
          "traceback": [
            "\u001b[0;31m---------------------------------------------------------------------------\u001b[0m",
            "\u001b[0;31mTypeError\u001b[0m                                 Traceback (most recent call last)",
            "\u001b[0;32m<ipython-input-17-5787ec1dcda9>\u001b[0m in \u001b[0;36m<module>\u001b[0;34m()\u001b[0m\n\u001b[0;32m----> 1\u001b[0;31m \u001b[0;34m'1'\u001b[0m\u001b[0;34m-\u001b[0m\u001b[0;34m'3'\u001b[0m \u001b[0;31m# string -string  ทำไม่ได้\u001b[0m\u001b[0;34m\u001b[0m\u001b[0;34m\u001b[0m\u001b[0m\n\u001b[0m",
            "\u001b[0;31mTypeError\u001b[0m: unsupported operand type(s) for -: 'str' and 'str'"
          ]
        }
      ]
    },
    {
      "cell_type": "markdown",
      "source": [
        "## Print (ข้อความ)\n",
        "\n",
        "`Print (ข้อความ) `"
      ],
      "metadata": {
        "id": "TanIAzxUSeWV"
      }
    },
    {
      "cell_type": "markdown",
      "source": [
        "เป็นการแสดงผลลัพธ์ออกมาทางหน้าจอ"
      ],
      "metadata": {
        "id": "YO-MvcRUKIXt"
      }
    },
    {
      "cell_type": "code",
      "source": [
        "print('ข้อความที่อยากให้print')"
      ],
      "metadata": {
        "colab": {
          "base_uri": "https://localhost:8080/"
        },
        "id": "ikYLLloFSnrD",
        "outputId": "15427170-2476-4e9b-c129-eec7a24d0f5e"
      },
      "execution_count": null,
      "outputs": [
        {
          "output_type": "stream",
          "name": "stdout",
          "text": [
            "ข้อความที่อยากให้print\n"
          ]
        }
      ]
    },
    {
      "cell_type": "markdown",
      "source": [
        "ต้องการแสดงผลทางหน้าจอให้คนอื่นทราบ"
      ],
      "metadata": {
        "id": "j9E1QddWTdaQ"
      }
    },
    {
      "cell_type": "markdown",
      "source": [
        "# Variable (ตัวแปร)\n",
        "ใช้เก็บข้อมูล  1 หน่วย"
      ],
      "metadata": {
        "id": "X62uqPC0SzUn"
      }
    },
    {
      "cell_type": "markdown",
      "source": [
        "ข้อดี ไม่ต้องกำหนด ชนิดตัวแปร\n",
        "ข้อควรระวัง ตัวแปร +ตัวเลขไม่ได้"
      ],
      "metadata": {
        "id": "fSDLcYSkVwQR"
      }
    },
    {
      "cell_type": "code",
      "source": [
        "a= 12\n",
        "b=1.3\n",
        "print(a-b)"
      ],
      "metadata": {
        "id": "odGsndI3TD52",
        "colab": {
          "base_uri": "https://localhost:8080/"
        },
        "outputId": "8f2523fa-8916-4bbd-829c-24085623f003"
      },
      "execution_count": null,
      "outputs": [
        {
          "output_type": "stream",
          "name": "stdout",
          "text": [
            "10.7\n"
          ]
        }
      ]
    },
    {
      "cell_type": "code",
      "source": [
        "15%3 #modulo หารเอาเศษ"
      ],
      "metadata": {
        "colab": {
          "base_uri": "https://localhost:8080/"
        },
        "id": "kMY8YbZhqp_n",
        "outputId": "b83b1671-ce5e-4fd6-cde9-f69f298f6e83"
      },
      "execution_count": null,
      "outputs": [
        {
          "output_type": "execute_result",
          "data": {
            "text/plain": [
              "0"
            ]
          },
          "metadata": {},
          "execution_count": 31
        }
      ]
    },
    {
      "cell_type": "code",
      "source": [
        "vartest1 = 1+3"
      ],
      "metadata": {
        "id": "rF6G1T5GTOQg"
      },
      "execution_count": null,
      "outputs": []
    },
    {
      "cell_type": "code",
      "source": [
        "4**4 #**ยกกำลัง"
      ],
      "metadata": {
        "colab": {
          "base_uri": "https://localhost:8080/"
        },
        "id": "diOKSjhrTYVy",
        "outputId": "fc668fcb-cbed-4161-cb65-94a036ab2089"
      },
      "execution_count": null,
      "outputs": [
        {
          "output_type": "execute_result",
          "data": {
            "text/plain": [
              "256"
            ]
          },
          "metadata": {},
          "execution_count": 28
        }
      ]
    },
    {
      "cell_type": "code",
      "source": [
        "print(vartest1)"
      ],
      "metadata": {
        "colab": {
          "base_uri": "https://localhost:8080/"
        },
        "id": "U6pgW9U9TmS1",
        "outputId": "f04e63a4-a8f5-437a-f04a-6e73744a8c71"
      },
      "execution_count": null,
      "outputs": [
        {
          "output_type": "stream",
          "name": "stdout",
          "text": [
            "4\n"
          ]
        }
      ]
    },
    {
      "cell_type": "code",
      "source": [
        "vartest2 ='1'+'3'  #ต่อ String"
      ],
      "metadata": {
        "id": "l3JTTYU4Tvuu"
      },
      "execution_count": null,
      "outputs": []
    },
    {
      "cell_type": "code",
      "source": [
        "vartest2"
      ],
      "metadata": {
        "colab": {
          "base_uri": "https://localhost:8080/",
          "height": 35
        },
        "id": "eKiPGTs3T3H9",
        "outputId": "427dc02e-2082-4f0a-ddc7-cea87816c968"
      },
      "execution_count": null,
      "outputs": [
        {
          "output_type": "execute_result",
          "data": {
            "text/plain": [
              "'13'"
            ],
            "application/vnd.google.colaboratory.intrinsic+json": {
              "type": "string"
            }
          },
          "metadata": {},
          "execution_count": 18
        }
      ]
    },
    {
      "cell_type": "code",
      "source": [
        "print(vartest2)"
      ],
      "metadata": {
        "colab": {
          "base_uri": "https://localhost:8080/"
        },
        "id": "dbdMPRubT9dS",
        "outputId": "ad87e02c-e2e2-4407-c844-e895a9798b78"
      },
      "execution_count": null,
      "outputs": [
        {
          "output_type": "stream",
          "name": "stdout",
          "text": [
            "13\n"
          ]
        }
      ]
    },
    {
      "cell_type": "code",
      "source": [
        "vartestfloat = 1.0 +5"
      ],
      "metadata": {
        "id": "ckHG9xpmUCzC"
      },
      "execution_count": null,
      "outputs": []
    },
    {
      "cell_type": "code",
      "source": [
        "vartestfloat"
      ],
      "metadata": {
        "colab": {
          "base_uri": "https://localhost:8080/"
        },
        "id": "djRtHMArUKPc",
        "outputId": "621f1eb7-d897-479e-d531-9a8fd545bda5"
      },
      "execution_count": null,
      "outputs": [
        {
          "output_type": "execute_result",
          "data": {
            "text/plain": [
              "6.0"
            ]
          },
          "metadata": {},
          "execution_count": 26
        }
      ]
    },
    {
      "cell_type": "markdown",
      "source": [
        " จะแสดงผลชนิดที่ใหญ่กว่า"
      ],
      "metadata": {
        "id": "iaDjHfa8UOAb"
      }
    },
    {
      "cell_type": "code",
      "source": [
        "print(vartestfloat)"
      ],
      "metadata": {
        "colab": {
          "base_uri": "https://localhost:8080/"
        },
        "id": "g0AUuBibUdmn",
        "outputId": "d0d78c0a-6a76-4da5-d71e-9c0379b2aa57"
      },
      "execution_count": null,
      "outputs": [
        {
          "output_type": "stream",
          "name": "stdout",
          "text": [
            "6.0\n"
          ]
        }
      ]
    },
    {
      "cell_type": "markdown",
      "source": [
        "## ข้อกำหนดในการตั้งชื่อตัวแปร\n",
        "1. พยายามตั้งชื่อให้สื่อความหมาย\n",
        "2. ต้องเป็นภาษาอังกฤษ\n",
        "3. ใช้ตัวเลขผสมกับตัวหนังสือได้ แต่ห้ามขึ้นต้นด้วยตัวเลข\n",
        "4. ห้ามมีเว้นวรรคในชื่อตัวแปร\n",
        "5.ตัวใหญ่ตัวเล็ก มีค่าไม่เท่ากัน"
      ],
      "metadata": {
        "id": "8qpcHFr0V4_a"
      }
    },
    {
      "cell_type": "code",
      "source": [
        "1a = 7 #ใช้ตัวเลขผสมกับตัวหนังสือได้ แต่ห้ามขึ้นต้นด้วยตัวเลข"
      ],
      "metadata": {
        "colab": {
          "base_uri": "https://localhost:8080/",
          "height": 130
        },
        "id": "kzxsxklNswoN",
        "outputId": "45e07df7-c982-4f84-c9f7-975975f0e91e"
      },
      "execution_count": null,
      "outputs": [
        {
          "output_type": "error",
          "ename": "SyntaxError",
          "evalue": "ignored",
          "traceback": [
            "\u001b[0;36m  File \u001b[0;32m\"<ipython-input-1-417edadcb760>\"\u001b[0;36m, line \u001b[0;32m1\u001b[0m\n\u001b[0;31m    1a = 7 #ใช้ตัวเลขผสมกับตัวหนังสือได้ แต่ห้ามขึ้นต้นด้วยตัวเลข\u001b[0m\n\u001b[0m     ^\u001b[0m\n\u001b[0;31mSyntaxError\u001b[0m\u001b[0;31m:\u001b[0m invalid syntax\n"
          ]
        }
      ]
    },
    {
      "cell_type": "code",
      "source": [
        "variable a = 1 #ห้ามมีเว้นวรรคในชื่อตัวแปร"
      ],
      "metadata": {
        "id": "EkumqXUUs0jM"
      },
      "execution_count": null,
      "outputs": []
    },
    {
      "cell_type": "code",
      "source": [
        "bat = 7 # ตัวใหญ่ ตัวเล็ก มีค่าไม่เท่ากัน"
      ],
      "metadata": {
        "id": "a2nzmK_ws395"
      },
      "execution_count": null,
      "outputs": []
    },
    {
      "cell_type": "code",
      "source": [
        "print(Bat) # ตัวใหญ่ ตัวเล็ก มีค่าไม่เท่ากัน"
      ],
      "metadata": {
        "id": "YDwlVtmOs6jF"
      },
      "execution_count": null,
      "outputs": []
    },
    {
      "cell_type": "markdown",
      "source": [
        "## Advanced Printing ( print code ร่วมกับข้อความ)\n",
        "เราสามารถ print code ร่วมกับข้อความได้\n",
        "\n",
        "```python\n",
        "print(f'ข้อความ{code}')\n",
        "```\n",
        "\n",
        "```Python\n",
        "print(f'หนึ่ง บวก สอง (1+2) เท่ากับ สาม ({1+2})')\n",
        "```"
      ],
      "metadata": {
        "id": "ioBKz9DSW-aJ"
      }
    },
    {
      "cell_type": "code",
      "source": [
        "print(f'หนึ่ง บวก สอง (1+2) เท่ากับ สาม ({1+2})')  # {}  Curly Brackets เอาไว้ใส่ code"
      ],
      "metadata": {
        "colab": {
          "base_uri": "https://localhost:8080/"
        },
        "id": "EWWpPiEAifRy",
        "outputId": "19ec74a0-4c83-4272-a144-910aff549f79"
      },
      "execution_count": null,
      "outputs": [
        {
          "output_type": "stream",
          "name": "stdout",
          "text": [
            "หนึ่ง บวก สอง (1+2) เท่ากับ สาม (3)\n"
          ]
        }
      ]
    },
    {
      "cell_type": "code",
      "source": [
        "print(f'ข้อความ{code}')"
      ],
      "metadata": {
        "id": "R_-Rj6q-YnO1",
        "colab": {
          "base_uri": "https://localhost:8080/",
          "height": 165
        },
        "outputId": "a04e3ecd-907a-45bc-8cd4-d086ddf42ec6"
      },
      "execution_count": null,
      "outputs": [
        {
          "output_type": "error",
          "ename": "NameError",
          "evalue": "ignored",
          "traceback": [
            "\u001b[0;31m---------------------------------------------------------------------------\u001b[0m",
            "\u001b[0;31mNameError\u001b[0m                                 Traceback (most recent call last)",
            "\u001b[0;32m<ipython-input-3-b63e49b9b8b4>\u001b[0m in \u001b[0;36m<module>\u001b[0;34m\u001b[0m\n\u001b[0;32m----> 1\u001b[0;31m \u001b[0mprint\u001b[0m\u001b[0;34m(\u001b[0m\u001b[0;34mf'ข้อความ{code}'\u001b[0m\u001b[0;34m)\u001b[0m\u001b[0;34m\u001b[0m\u001b[0;34m\u001b[0m\u001b[0m\n\u001b[0m",
            "\u001b[0;31mNameError\u001b[0m: name 'code' is not defined"
          ]
        }
      ]
    },
    {
      "cell_type": "code",
      "source": [
        "print(f'ส่วนนี้ไม่ใช่ code>2*3 3-5 // ส่วนของ code>{2*3} {3-5}')"
      ],
      "metadata": {
        "colab": {
          "base_uri": "https://localhost:8080/"
        },
        "id": "u64NGXiCYKgM",
        "outputId": "aa0be1c7-03fd-48db-9014-5fe200779a79"
      },
      "execution_count": null,
      "outputs": [
        {
          "output_type": "stream",
          "name": "stdout",
          "text": [
            "ส่วนนี้ไม่ใช่ code>2*3 3-5 // ส่วนของ code>6 -2\n"
          ]
        }
      ]
    },
    {
      "cell_type": "code",
      "source": [
        "print(f'หนึ่ง บวก สอง (1+2) เท่ากับ สาม ({1+2})') #Curly Brackets"
      ],
      "metadata": {
        "colab": {
          "base_uri": "https://localhost:8080/"
        },
        "id": "R7LX5RkNX13U",
        "outputId": "582361bd-2405-44e6-e00b-831492a283b6"
      },
      "execution_count": null,
      "outputs": [
        {
          "output_type": "stream",
          "name": "stdout",
          "text": [
            "หนึ่ง บวก สอง (1+2) เท่ากับ สาม (3)\n"
          ]
        }
      ]
    },
    {
      "cell_type": "code",
      "source": [
        "a = 1\n",
        "b = 2\n",
        "print(f'หนึ่ง บวก สอง ({a}+{b}) เท่ากับ สาม ({a+b})')"
      ],
      "metadata": {
        "colab": {
          "base_uri": "https://localhost:8080/"
        },
        "id": "mVxIA-ygZQ87",
        "outputId": "3418b74c-e011-4961-cf12-f952cd748b30"
      },
      "execution_count": null,
      "outputs": [
        {
          "output_type": "stream",
          "name": "stdout",
          "text": [
            "หนึ่ง บวก สอง (1+2) เท่ากับ สาม (3)\n"
          ]
        }
      ]
    },
    {
      "cell_type": "code",
      "source": [
        "a = 5\n",
        "b = 2"
      ],
      "metadata": {
        "id": "BMWLQp3HaPZ7"
      },
      "execution_count": null,
      "outputs": []
    },
    {
      "cell_type": "code",
      "source": [
        "print(f'{a}+{b} = {a+b}')"
      ],
      "metadata": {
        "colab": {
          "base_uri": "https://localhost:8080/"
        },
        "id": "060E9xI7tJaG",
        "outputId": "4e822e99-6a4c-406f-a552-98d8b41ebab0"
      },
      "execution_count": null,
      "outputs": [
        {
          "output_type": "stream",
          "name": "stdout",
          "text": [
            "5+2 = 7\n"
          ]
        }
      ]
    },
    {
      "cell_type": "markdown",
      "source": [
        "## ชนิดของตัวแปร\n"
      ],
      "metadata": {
        "id": "TDIPg9nhtZT1"
      }
    },
    {
      "cell_type": "markdown",
      "source": [
        "### char(acter) (ตัวอักษร)\n",
        "\n",
        "- มี 1 ตัว = ตัวอักษร\n",
        "- เอาตัวอักษรมาต่อกัน = ข้อความ\n",
        "- operator ในการ บวก ลบ คูณ หาร เหมือนกับ 'ข้อความ'\n",
        "- แต่!!!!!!! ไม่สามารถเอา 'ข้อความ' มาทำการบวกกับ 'ตัวอักษร'ได้"
      ],
      "metadata": {
        "id": "NWxPKE3htcHu"
      }
    },
    {
      "cell_type": "code",
      "source": [
        "a = 'Ch'"
      ],
      "metadata": {
        "id": "WZ7UHpFRtirB"
      },
      "execution_count": null,
      "outputs": []
    },
    {
      "cell_type": "code",
      "source": [
        "b = 'aracter'"
      ],
      "metadata": {
        "id": "_7-1_R8YtmPu"
      },
      "execution_count": null,
      "outputs": []
    },
    {
      "cell_type": "code",
      "source": [
        "print(f'a={a} b={b}, then {a}+{b} = {a+b}')"
      ],
      "metadata": {
        "colab": {
          "base_uri": "https://localhost:8080/"
        },
        "id": "iR1F_3gXtpqA",
        "outputId": "679e35b2-ae6d-40bd-dbea-33d15ae6cdf1"
      },
      "execution_count": null,
      "outputs": [
        {
          "output_type": "stream",
          "name": "stdout",
          "text": [
            "a=Ch b=aracter, then Ch+aracter = Character\n"
          ]
        }
      ]
    },
    {
      "cell_type": "code",
      "source": [
        "A = 'c'\n",
        "B = 'a'"
      ],
      "metadata": {
        "id": "ToiDzo_RtteU"
      },
      "execution_count": null,
      "outputs": []
    },
    {
      "cell_type": "code",
      "source": [
        "print(A+B)"
      ],
      "metadata": {
        "colab": {
          "base_uri": "https://localhost:8080/"
        },
        "id": "SD5NdgoOtv54",
        "outputId": "2ef04c20-c9c2-4c57-85e0-ea2271b19df0"
      },
      "execution_count": null,
      "outputs": [
        {
          "output_type": "stream",
          "name": "stdout",
          "text": [
            "ca\n"
          ]
        }
      ]
    },
    {
      "cell_type": "markdown",
      "source": [
        "### int(eger) (จำนวนเต็ม)"
      ],
      "metadata": {
        "id": "yiNw6ea5ty70"
      }
    },
    {
      "cell_type": "code",
      "source": [
        "int_a = 7\n",
        "int_b = 2"
      ],
      "metadata": {
        "id": "1kvzb3yyt3zB"
      },
      "execution_count": null,
      "outputs": []
    },
    {
      "cell_type": "code",
      "source": [
        "int_c = int_a + int_b\n",
        "print(int_c)"
      ],
      "metadata": {
        "colab": {
          "base_uri": "https://localhost:8080/"
        },
        "id": "e3iN8lIrt7AX",
        "outputId": "a0e5f0f2-7249-4d72-bea4-4927f6ed28da"
      },
      "execution_count": null,
      "outputs": [
        {
          "output_type": "stream",
          "name": "stdout",
          "text": [
            "9\n"
          ]
        }
      ]
    },
    {
      "cell_type": "markdown",
      "source": [
        "### float (จำนวนจริง ทศนิยม)\n",
        "    double เหมือน float เเต่แค่ใช้พื้นที่เก็บข้อมูลมากกว่า"
      ],
      "metadata": {
        "id": "Q1YoWWn_ug0G"
      }
    },
    {
      "cell_type": "code",
      "source": [
        "fl_a = 7.  # เขียนแค่จุดก็ได้\n",
        "fl_b = 2.571"
      ],
      "metadata": {
        "id": "UCeFO3Xhulln"
      },
      "execution_count": 2,
      "outputs": []
    },
    {
      "cell_type": "code",
      "source": [
        "print(fl_a,type(fl_a))"
      ],
      "metadata": {
        "colab": {
          "base_uri": "https://localhost:8080/"
        },
        "id": "Mzll_99fuuUC",
        "outputId": "6fb1b975-27dd-4def-fcfb-582978d02c7f"
      },
      "execution_count": 3,
      "outputs": [
        {
          "output_type": "stream",
          "name": "stdout",
          "text": [
            "7.0 <class 'float'>\n"
          ]
        }
      ]
    },
    {
      "cell_type": "code",
      "source": [
        "fl_b\n"
      ],
      "metadata": {
        "colab": {
          "base_uri": "https://localhost:8080/"
        },
        "id": "k8OSG4wEu7qr",
        "outputId": "e9dabc40-f5dc-40f0-f9ba-007b6b14fb68"
      },
      "execution_count": null,
      "outputs": [
        {
          "output_type": "execute_result",
          "data": {
            "text/plain": [
              "2.571"
            ]
          },
          "metadata": {},
          "execution_count": 16
        }
      ]
    },
    {
      "cell_type": "code",
      "source": [
        "print(fl_a)"
      ],
      "metadata": {
        "colab": {
          "base_uri": "https://localhost:8080/"
        },
        "id": "EUHK9PhGvB4Z",
        "outputId": "ad8fcc03-6acc-4938-de62-515078a2c24c"
      },
      "execution_count": null,
      "outputs": [
        {
          "output_type": "stream",
          "name": "stdout",
          "text": [
            "7.0\n"
          ]
        }
      ]
    },
    {
      "cell_type": "markdown",
      "source": [
        "### boolean (ตัวแปรที่มีค่า True หรือ False) ตรรกศาสตร์"
      ],
      "metadata": {
        "id": "eWXJHDlavIHW"
      }
    },
    {
      "cell_type": "code",
      "source": [
        "b_T = True"
      ],
      "metadata": {
        "id": "DPBMihn-vKyp"
      },
      "execution_count": 4,
      "outputs": []
    },
    {
      "cell_type": "code",
      "source": [
        "b_F = False"
      ],
      "metadata": {
        "id": "pj14n8PYvQJA"
      },
      "execution_count": 5,
      "outputs": []
    },
    {
      "cell_type": "code",
      "source": [
        "print(b_T and b_F)"
      ],
      "metadata": {
        "colab": {
          "base_uri": "https://localhost:8080/"
        },
        "id": "kY6iwkEsvTwy",
        "outputId": "75336d13-e2db-4e54-fff2-eba0fd0c4822"
      },
      "execution_count": 6,
      "outputs": [
        {
          "output_type": "stream",
          "name": "stdout",
          "text": [
            "False\n"
          ]
        }
      ]
    },
    {
      "cell_type": "code",
      "source": [
        "print(b_T or b_F)"
      ],
      "metadata": {
        "colab": {
          "base_uri": "https://localhost:8080/"
        },
        "id": "vcRrzk_QvWoE",
        "outputId": "da682c78-69cd-4274-fe6c-dc530fd6cdcd"
      },
      "execution_count": 7,
      "outputs": [
        {
          "output_type": "stream",
          "name": "stdout",
          "text": [
            "True\n"
          ]
        }
      ]
    },
    {
      "cell_type": "code",
      "source": [
        "print(b_T & b_F) #and"
      ],
      "metadata": {
        "colab": {
          "base_uri": "https://localhost:8080/"
        },
        "id": "8unLu7xpuM-a",
        "outputId": "d1f0e442-42f4-40dc-8cd1-563558888e48"
      },
      "execution_count": 8,
      "outputs": [
        {
          "output_type": "stream",
          "name": "stdout",
          "text": [
            "False\n"
          ]
        }
      ]
    },
    {
      "cell_type": "code",
      "source": [
        "print(b_T | b_F) #or"
      ],
      "metadata": {
        "id": "FbWZr-4Fukh9",
        "outputId": "bfeda08d-abd1-44be-a115-01156429ba56",
        "colab": {
          "base_uri": "https://localhost:8080/"
        }
      },
      "execution_count": 9,
      "outputs": [
        {
          "output_type": "stream",
          "name": "stdout",
          "text": [
            "True\n"
          ]
        }
      ]
    },
    {
      "cell_type": "markdown",
      "source": [
        "### complex (จำนวนเชิงซ้อน)\n",
        "    จน.จริง + จน.จินตภาพ"
      ],
      "metadata": {
        "id": "jbSnNqhPvc7D"
      }
    },
    {
      "cell_type": "code",
      "source": [
        "x = 1 + 2j"
      ],
      "metadata": {
        "id": "fPWokv4cve2g"
      },
      "execution_count": 12,
      "outputs": []
    },
    {
      "cell_type": "code",
      "source": [
        "print(x)"
      ],
      "metadata": {
        "colab": {
          "base_uri": "https://localhost:8080/"
        },
        "id": "rf30M4Zjvj5G",
        "outputId": "5bbfb8fe-d929-4451-8b02-41f9574d6879"
      },
      "execution_count": 13,
      "outputs": [
        {
          "output_type": "stream",
          "name": "stdout",
          "text": [
            "(1+2j)\n"
          ]
        }
      ]
    },
    {
      "cell_type": "markdown",
      "source": [
        "### เราสามารถตรวจสอบชนิดของตัวแปรด้วยคำสั่ง type()"
      ],
      "metadata": {
        "id": "bpYtyNhSwC8R"
      }
    },
    {
      "cell_type": "markdown",
      "source": [
        "```type()```"
      ],
      "metadata": {
        "id": "NpJ4JLgKwLcg"
      }
    },
    {
      "cell_type": "code",
      "source": [
        "print(f'ตัวแปร x ค่าคือ {x} ชนิด {type(x)}')"
      ],
      "metadata": {
        "colab": {
          "base_uri": "https://localhost:8080/"
        },
        "id": "zMq2ttHTwNp_",
        "outputId": "99c09dc0-f9fd-4c47-a4fe-d93d79ac0593"
      },
      "execution_count": 14,
      "outputs": [
        {
          "output_type": "stream",
          "name": "stdout",
          "text": [
            "ตัวแปร x ค่าคือ (1+2j) ชนิด <class 'complex'>\n"
          ]
        }
      ]
    },
    {
      "cell_type": "code",
      "source": [
        "A = 123"
      ],
      "metadata": {
        "id": "cHCS1s6Cv9RN"
      },
      "execution_count": 18,
      "outputs": []
    },
    {
      "cell_type": "code",
      "source": [
        "print(A)"
      ],
      "metadata": {
        "id": "jgm4-XPvwCEW",
        "outputId": "141bca1d-e820-4117-f1bd-f1719c59958e",
        "colab": {
          "base_uri": "https://localhost:8080/"
        }
      },
      "execution_count": 19,
      "outputs": [
        {
          "output_type": "stream",
          "name": "stdout",
          "text": [
            "123\n"
          ]
        }
      ]
    },
    {
      "cell_type": "code",
      "source": [
        "print(f'ตัวแปร A ค่าคือ {A} ชนิด {type(A)}')"
      ],
      "metadata": {
        "colab": {
          "base_uri": "https://localhost:8080/"
        },
        "id": "7yo0hgO5wQ7o",
        "outputId": "28f0ffeb-f68e-4f99-bb4b-263eec9e85d8"
      },
      "execution_count": 20,
      "outputs": [
        {
          "output_type": "stream",
          "name": "stdout",
          "text": [
            "ตัวแปร A ค่าคือ 123 ชนิด <class 'int'>\n"
          ]
        }
      ]
    },
    {
      "cell_type": "code",
      "source": [
        "a = 'Hello'"
      ],
      "metadata": {
        "id": "5UvBBf7KwXvB"
      },
      "execution_count": 22,
      "outputs": []
    },
    {
      "cell_type": "code",
      "source": [
        "print(a)"
      ],
      "metadata": {
        "id": "fzuoxNdPwg6S",
        "outputId": "f75827f9-73ac-4d6f-ff3c-3c893da6194f",
        "colab": {
          "base_uri": "https://localhost:8080/"
        }
      },
      "execution_count": 23,
      "outputs": [
        {
          "output_type": "stream",
          "name": "stdout",
          "text": [
            "Hello\n"
          ]
        }
      ]
    },
    {
      "cell_type": "code",
      "source": [
        "print(f'ตัวแปร a ค่าคือ {a} ชนิด {type(a)}')"
      ],
      "metadata": {
        "colab": {
          "base_uri": "https://localhost:8080/"
        },
        "id": "VWp_zgwIwUBW",
        "outputId": "76ce8e04-efa3-460e-9256-05582acdb7f9"
      },
      "execution_count": 24,
      "outputs": [
        {
          "output_type": "stream",
          "name": "stdout",
          "text": [
            "ตัวแปร a ค่าคือ Hello ชนิด <class 'str'>\n"
          ]
        }
      ]
    },
    {
      "cell_type": "markdown",
      "source": [
        "----- จบคาบ 2 ------"
      ],
      "metadata": {
        "id": "HmpGbHUCwZf9"
      }
    },
    {
      "cell_type": "markdown",
      "source": [
        "# การแปลงชนิดของตัวแปร (Variable Casting) #เปลี่ยนชนิดของตัวแปล"
      ],
      "metadata": {
        "id": "sseIs4FieTM-"
      }
    },
    {
      "cell_type": "code",
      "source": [
        "int_a = 20\n",
        "int_b = 55\n"
      ],
      "metadata": {
        "id": "0goh9neqyQ6_"
      },
      "execution_count": 41,
      "outputs": []
    },
    {
      "cell_type": "code",
      "source": [
        "print(int_a,int_b)"
      ],
      "metadata": {
        "id": "iMHM8UTuyTtb",
        "outputId": "0025afed-f90e-4f11-ecad-09369cea228a",
        "colab": {
          "base_uri": "https://localhost:8080/"
        }
      },
      "execution_count": 42,
      "outputs": [
        {
          "output_type": "stream",
          "name": "stdout",
          "text": [
            "20 55\n"
          ]
        }
      ]
    },
    {
      "cell_type": "code",
      "source": [
        "print(f'int_a = {int_a} int_b = {int_b} fl_a = {fl_a} fl_b = {fl_b}')"
      ],
      "metadata": {
        "colab": {
          "base_uri": "https://localhost:8080/"
        },
        "id": "qJXV88hteXEZ",
        "outputId": "aff22517-2d68-4b82-8195-e120ac32ce65"
      },
      "execution_count": 43,
      "outputs": [
        {
          "output_type": "stream",
          "name": "stdout",
          "text": [
            "int_a = 20 int_b = 55 fl_a = 7.0 fl_b = 2.571\n"
          ]
        }
      ]
    },
    {
      "cell_type": "code",
      "source": [
        "str_a = '6'   # str บวก ลบ คูณหารกันไม่ได้\n",
        "str_b = '-2'"
      ],
      "metadata": {
        "id": "XMrOjBDcflHq"
      },
      "execution_count": 44,
      "outputs": []
    },
    {
      "cell_type": "code",
      "source": [
        "str_a2int = int(str_a) #เปลี่ยน str เป็น int\n",
        "print(f'ตัวแปร str_a2int ค่าคือ {str_a2int} ชนิด {type(str_a2int)}')"
      ],
      "metadata": {
        "colab": {
          "base_uri": "https://localhost:8080/"
        },
        "id": "53scNnO9dvdm",
        "outputId": "5e9e8517-1cbf-4a44-c265-e4c6d4153921"
      },
      "execution_count": 45,
      "outputs": [
        {
          "output_type": "stream",
          "name": "stdout",
          "text": [
            "ตัวแปร str_a2int ค่าคือ 6 ชนิด <class 'int'>\n"
          ]
        }
      ]
    },
    {
      "cell_type": "code",
      "source": [
        "str_a2int + int_a"
      ],
      "metadata": {
        "colab": {
          "base_uri": "https://localhost:8080/"
        },
        "id": "5POiVc3uePdf",
        "outputId": "9117aa7b-6dc1-4b27-8214-cb60a7924dbe"
      },
      "execution_count": 46,
      "outputs": [
        {
          "output_type": "execute_result",
          "data": {
            "text/plain": [
              "26"
            ]
          },
          "metadata": {},
          "execution_count": 46
        }
      ]
    },
    {
      "cell_type": "code",
      "source": [
        "(int(str_a) + int_a)  #บวกกันไม่ได้"
      ],
      "metadata": {
        "colab": {
          "base_uri": "https://localhost:8080/"
        },
        "id": "Y2oYHGaQeWpa",
        "outputId": "394c8b18-e544-4b75-da77-bc701971aa54"
      },
      "execution_count": 49,
      "outputs": [
        {
          "output_type": "execute_result",
          "data": {
            "text/plain": [
              "26"
            ]
          },
          "metadata": {},
          "execution_count": 49
        }
      ]
    },
    {
      "cell_type": "code",
      "source": [
        "str(int_a)+ str_a"
      ],
      "metadata": {
        "colab": {
          "base_uri": "https://localhost:8080/",
          "height": 35
        },
        "id": "CrZRPFrsecIs",
        "outputId": "4c3ea2e0-a1a3-4712-edda-acae52953ac5"
      },
      "execution_count": 51,
      "outputs": [
        {
          "output_type": "execute_result",
          "data": {
            "text/plain": [
              "'206'"
            ],
            "application/vnd.google.colaboratory.intrinsic+json": {
              "type": "string"
            }
          },
          "metadata": {},
          "execution_count": 51
        }
      ]
    },
    {
      "cell_type": "code",
      "source": [
        "int(fl_b) # fl_b = 2.571 เปลี่ยนเป็น int ได้ 2 เพราะตัดทิ้งหลังทศ หมด"
      ],
      "metadata": {
        "colab": {
          "base_uri": "https://localhost:8080/"
        },
        "id": "bo4rlNX_eokh",
        "outputId": "d678791d-5437-4207-b49f-b607ec79f0bf"
      },
      "execution_count": 31,
      "outputs": [
        {
          "output_type": "execute_result",
          "data": {
            "text/plain": [
              "2"
            ]
          },
          "metadata": {},
          "execution_count": 31
        }
      ]
    },
    {
      "cell_type": "code",
      "source": [
        "float(int(fl_a)) #เปลี่ยนเป็น ทศ"
      ],
      "metadata": {
        "colab": {
          "base_uri": "https://localhost:8080/"
        },
        "id": "wTk9rvbjfP2j",
        "outputId": "ba07316b-6c9d-4ca2-fa2c-bba092eca6d8"
      },
      "execution_count": 34,
      "outputs": [
        {
          "output_type": "execute_result",
          "data": {
            "text/plain": [
              "7.0"
            ]
          },
          "metadata": {},
          "execution_count": 34
        }
      ]
    },
    {
      "cell_type": "code",
      "source": [
        "str(fl_b)  #เปลี่ยนเป็นข้อความ"
      ],
      "metadata": {
        "colab": {
          "base_uri": "https://localhost:8080/",
          "height": 35
        },
        "id": "YxltOS6efL7s",
        "outputId": "3b81fd7c-2d77-4c79-df6b-ca5f69a2175e"
      },
      "execution_count": 33,
      "outputs": [
        {
          "output_type": "execute_result",
          "data": {
            "text/plain": [
              "'2.571'"
            ],
            "application/vnd.google.colaboratory.intrinsic+json": {
              "type": "string"
            }
          },
          "metadata": {},
          "execution_count": 33
        }
      ]
    },
    {
      "cell_type": "markdown",
      "source": [
        "## Operation เอาตัวแปรสองตัวมาทำอะไรกัน"
      ],
      "metadata": {
        "id": "My31ZR8Df_-x"
      }
    },
    {
      "cell_type": "markdown",
      "source": [
        "### operators (บวก (+), ลบ (-), คูณ (*), หาร (/), modulo (%), and (&), or (|))"
      ],
      "metadata": {
        "id": "w_5digYogMc3"
      }
    },
    {
      "cell_type": "code",
      "source": [
        "fl_a + int_b #ทศ บวก เต็ม ได้ ทศ เพราะทศใหญ่กว่า"
      ],
      "metadata": {
        "colab": {
          "base_uri": "https://localhost:8080/"
        },
        "id": "jzcV31M0fuhh",
        "outputId": "9cc1710b-3c66-4185-a89e-eb066a8bf2c7"
      },
      "execution_count": 52,
      "outputs": [
        {
          "output_type": "execute_result",
          "data": {
            "text/plain": [
              "62.0"
            ]
          },
          "metadata": {},
          "execution_count": 52
        }
      ]
    },
    {
      "cell_type": "code",
      "source": [
        "9%2 #การหาร เอาเศษ  เช็คได้ว่าเป็นคู่หรือคี่"
      ],
      "metadata": {
        "id": "O6oZ07y4gzAp",
        "colab": {
          "base_uri": "https://localhost:8080/"
        },
        "outputId": "a3dcce39-c224-40a1-9b2b-066299874274"
      },
      "execution_count": 53,
      "outputs": [
        {
          "output_type": "execute_result",
          "data": {
            "text/plain": [
              "1"
            ]
          },
          "metadata": {},
          "execution_count": 53
        }
      ]
    },
    {
      "cell_type": "code",
      "source": [
        "100%2"
      ],
      "metadata": {
        "colab": {
          "base_uri": "https://localhost:8080/"
        },
        "id": "flPC9rANgRwv",
        "outputId": "962321be-55dd-4baf-f614-e4e39878fae3"
      },
      "execution_count": 54,
      "outputs": [
        {
          "output_type": "execute_result",
          "data": {
            "text/plain": [
              "0"
            ]
          },
          "metadata": {},
          "execution_count": 54
        }
      ]
    },
    {
      "cell_type": "code",
      "source": [
        "int_a / int_b"
      ],
      "metadata": {
        "colab": {
          "base_uri": "https://localhost:8080/"
        },
        "id": "6PP5A3qqgYyC",
        "outputId": "c37e4916-cb38-44f4-c4ca-35ef4867d940"
      },
      "execution_count": 55,
      "outputs": [
        {
          "output_type": "execute_result",
          "data": {
            "text/plain": [
              "0.36363636363636365"
            ]
          },
          "metadata": {},
          "execution_count": 55
        }
      ]
    },
    {
      "cell_type": "code",
      "source": [
        "int(int_a / int_b) #หารเอาส่วน เอาแค่จำนวนเต็ม"
      ],
      "metadata": {
        "colab": {
          "base_uri": "https://localhost:8080/"
        },
        "id": "86tVLoSmgams",
        "outputId": "94641cda-b587-44f3-9e93-4f8b6444ec5b"
      },
      "execution_count": 56,
      "outputs": [
        {
          "output_type": "execute_result",
          "data": {
            "text/plain": [
              "0"
            ]
          },
          "metadata": {},
          "execution_count": 56
        }
      ]
    },
    {
      "cell_type": "code",
      "source": [
        "False & False"
      ],
      "metadata": {
        "colab": {
          "base_uri": "https://localhost:8080/"
        },
        "id": "7CtD-pRygc7B",
        "outputId": "8842fadc-6dfb-4780-9e75-61ae07c0ddd1"
      },
      "execution_count": 57,
      "outputs": [
        {
          "output_type": "execute_result",
          "data": {
            "text/plain": [
              "False"
            ]
          },
          "metadata": {},
          "execution_count": 57
        }
      ]
    },
    {
      "cell_type": "code",
      "source": [
        "False & True"
      ],
      "metadata": {
        "colab": {
          "base_uri": "https://localhost:8080/"
        },
        "id": "o00yKpNpgevb",
        "outputId": "d040e252-556a-4db3-e534-b583537a2dce"
      },
      "execution_count": 58,
      "outputs": [
        {
          "output_type": "execute_result",
          "data": {
            "text/plain": [
              "False"
            ]
          },
          "metadata": {},
          "execution_count": 58
        }
      ]
    },
    {
      "cell_type": "code",
      "source": [
        "False | True # | = or"
      ],
      "metadata": {
        "colab": {
          "base_uri": "https://localhost:8080/"
        },
        "id": "nu9Ca_BOghCx",
        "outputId": "2bfe964f-fcb4-43d3-837e-daf19c8c6e88"
      },
      "execution_count": 59,
      "outputs": [
        {
          "output_type": "execute_result",
          "data": {
            "text/plain": [
              "True"
            ]
          },
          "metadata": {},
          "execution_count": 59
        }
      ]
    },
    {
      "cell_type": "code",
      "source": [
        "print(200**0.5)"
      ],
      "metadata": {
        "id": "4NVO5b0S0DDt",
        "outputId": "a19b1e3c-de53-4b28-8e3e-b1610e147f7c",
        "colab": {
          "base_uri": "https://localhost:8080/"
        }
      },
      "execution_count": 60,
      "outputs": [
        {
          "output_type": "stream",
          "name": "stdout",
          "text": [
            "14.142135623730951\n"
          ]
        }
      ]
    },
    {
      "cell_type": "markdown",
      "source": [
        "### String operations #การทำงานกับข้อความ"
      ],
      "metadata": {
        "id": "YrFJUFv1gi0t"
      }
    },
    {
      "cell_type": "markdown",
      "source": [
        "### ``+ ``-> concat(บวก),` * `-> repeat (ทำซ้ำ)"
      ],
      "metadata": {
        "id": "CuW8TVZNgsT5"
      }
    },
    {
      "cell_type": "code",
      "source": [
        "st_test1 = 'Department of Statistics, '\n",
        "st_test2 = 'Faculty of Science'"
      ],
      "metadata": {
        "id": "0U-DcBWegmyN"
      },
      "execution_count": 61,
      "outputs": []
    },
    {
      "cell_type": "code",
      "source": [
        "print(st_test1+st_test2) # บวก คือการต่อข้อความ"
      ],
      "metadata": {
        "colab": {
          "base_uri": "https://localhost:8080/"
        },
        "id": "AvdbZ-Nfg1Gd",
        "outputId": "848034dc-1e46-4ae2-aef0-d84003d74131"
      },
      "execution_count": 62,
      "outputs": [
        {
          "output_type": "stream",
          "name": "stdout",
          "text": [
            "Department of Statistics, Faculty of Science\n"
          ]
        }
      ]
    },
    {
      "cell_type": "code",
      "source": [
        "print(10*'t') # * คือการทำซ้ำ"
      ],
      "metadata": {
        "colab": {
          "base_uri": "https://localhost:8080/"
        },
        "id": "GwE71bEng2w-",
        "outputId": "319fc466-d9a1-42dc-b6eb-508af56a4286"
      },
      "execution_count": 63,
      "outputs": [
        {
          "output_type": "stream",
          "name": "stdout",
          "text": [
            "tttttttttt\n"
          ]
        }
      ]
    },
    {
      "cell_type": "code",
      "source": [
        "print(3*st_test1)"
      ],
      "metadata": {
        "colab": {
          "base_uri": "https://localhost:8080/"
        },
        "id": "4rQGAi4bg4rh",
        "outputId": "dd0bd711-0005-4bc5-be40-cd61d685de8b"
      },
      "execution_count": 64,
      "outputs": [
        {
          "output_type": "stream",
          "name": "stdout",
          "text": [
            "Department of Statistics, Department of Statistics, Department of Statistics, \n"
          ]
        }
      ]
    },
    {
      "cell_type": "code",
      "source": [
        "print(f\"มา{100*'ก'}\")"
      ],
      "metadata": {
        "id": "C0xHBGaD1RQM",
        "outputId": "52183d7a-3fc8-45d8-b0d6-c24b8feb4045",
        "colab": {
          "base_uri": "https://localhost:8080/"
        }
      },
      "execution_count": 68,
      "outputs": [
        {
          "output_type": "stream",
          "name": "stdout",
          "text": [
            "มากกกกกกกกกกกกกกกกกกกกกกกกกกกกกกกกกกกกกกกกกกกกกกกกกกกกกกกกกกกกกกกกกกกกกกกกกกกกกกกกกกกกกกกกกกกกกกกกกกกก\n"
          ]
        }
      ]
    },
    {
      "cell_type": "code",
      "source": [
        "print(f\"{'มา'+100*'ก'}\")"
      ],
      "metadata": {
        "id": "xT7Qaq1f1fZ3",
        "outputId": "b94629ef-0bb2-434c-d84e-1d42cdb48ca7",
        "colab": {
          "base_uri": "https://localhost:8080/"
        }
      },
      "execution_count": 72,
      "outputs": [
        {
          "output_type": "stream",
          "name": "stdout",
          "text": [
            "มากกกกกกกกกกกกกกกกกกกกกกกกกกกกกกกกกกกกกกกกกกกกกกกกกกกกกกกกกกกกกกกกกกกกกกกกกกกกกกกกกกกกกกกกกกกกกกกกกกกก\n"
          ]
        }
      ]
    },
    {
      "cell_type": "markdown",
      "source": [
        "## ```replace()``` แทนที่ string"
      ],
      "metadata": {
        "id": "LOg3BSN4g_xv"
      }
    },
    {
      "cell_type": "code",
      "source": [
        "st_test1.replace('e',' ') #('e',' ') ('แทนที่อะไร','ด้วยอะไร')"
      ],
      "metadata": {
        "colab": {
          "base_uri": "https://localhost:8080/",
          "height": 35
        },
        "id": "Nc7bjL5vhEAX",
        "outputId": "4d164316-7ed0-4cfe-e947-9606eff6082b"
      },
      "execution_count": 65,
      "outputs": [
        {
          "output_type": "execute_result",
          "data": {
            "text/plain": [
              "'D partm nt of Statistics, '"
            ],
            "application/vnd.google.colaboratory.intrinsic+json": {
              "type": "string"
            }
          },
          "metadata": {},
          "execution_count": 65
        }
      ]
    },
    {
      "cell_type": "code",
      "source": [
        "st_test1.replace('e','') ## ' '  = ช่องว่าง, '' = ลบ"
      ],
      "metadata": {
        "colab": {
          "base_uri": "https://localhost:8080/",
          "height": 35
        },
        "id": "uTFLnToYhE_s",
        "outputId": "17fb5e4f-0f23-4ff6-ee0d-fc49981c3ffe"
      },
      "execution_count": 66,
      "outputs": [
        {
          "output_type": "execute_result",
          "data": {
            "text/plain": [
              "'Dpartmnt of Statistics, '"
            ],
            "application/vnd.google.colaboratory.intrinsic+json": {
              "type": "string"
            }
          },
          "metadata": {},
          "execution_count": 66
        }
      ]
    },
    {
      "cell_type": "code",
      "source": [
        "'เ เ ถมแแแ เ เ   แ' .replace('เ เ','แ')"
      ],
      "metadata": {
        "id": "nIiuT4jf28Hb",
        "outputId": "762a94c6-e11e-4f07-df34-c8035c9ba021",
        "colab": {
          "base_uri": "https://localhost:8080/",
          "height": 35
        }
      },
      "execution_count": 77,
      "outputs": [
        {
          "output_type": "execute_result",
          "data": {
            "text/plain": [
              "'แ ถมแแแ แ   แ'"
            ],
            "application/vnd.google.colaboratory.intrinsic+json": {
              "type": "string"
            }
          },
          "metadata": {},
          "execution_count": 77
        }
      ]
    },
    {
      "cell_type": "code",
      "source": [
        "st_test1"
      ],
      "metadata": {
        "colab": {
          "base_uri": "https://localhost:8080/",
          "height": 35
        },
        "id": "KhBSGnC9hGpS",
        "outputId": "b8a86e4e-9c64-49b5-bd42-def48c9ef78e"
      },
      "execution_count": 73,
      "outputs": [
        {
          "output_type": "execute_result",
          "data": {
            "text/plain": [
              "'Department of Statistics, '"
            ],
            "application/vnd.google.colaboratory.intrinsic+json": {
              "type": "string"
            }
          },
          "metadata": {},
          "execution_count": 73
        }
      ]
    },
    {
      "cell_type": "code",
      "source": [
        "'Department of Statistics, '.replace('a','x')"
      ],
      "metadata": {
        "colab": {
          "base_uri": "https://localhost:8080/",
          "height": 35
        },
        "id": "0V67k_fFhKOd",
        "outputId": "7bf02664-d4f7-4dc9-d778-bb1088cdac68"
      },
      "execution_count": 74,
      "outputs": [
        {
          "output_type": "execute_result",
          "data": {
            "text/plain": [
              "'Depxrtment of Stxtistics, '"
            ],
            "application/vnd.google.colaboratory.intrinsic+json": {
              "type": "string"
            }
          },
          "metadata": {},
          "execution_count": 74
        }
      ]
    },
    {
      "cell_type": "markdown",
      "source": [
        "## ```split()``` แยก string"
      ],
      "metadata": {
        "id": "kVsLJYeJhMwK"
      }
    },
    {
      "cell_type": "code",
      "source": [
        "'acbcdcfg' .split('c')"
      ],
      "metadata": {
        "id": "7dtOJdM85ZmD",
        "outputId": "f9f00c82-dde0-4e28-de2f-6ccf6e6b5383",
        "colab": {
          "base_uri": "https://localhost:8080/"
        }
      },
      "execution_count": 83,
      "outputs": [
        {
          "output_type": "execute_result",
          "data": {
            "text/plain": [
              "['a', 'b', 'd', 'fg']"
            ]
          },
          "metadata": {},
          "execution_count": 83
        }
      ]
    },
    {
      "cell_type": "code",
      "source": [
        "'a b c d e f g'.split() #แยกด้วยช่องว่าง"
      ],
      "metadata": {
        "colab": {
          "base_uri": "https://localhost:8080/"
        },
        "id": "aQMvpXVihPet",
        "outputId": "697f2067-d44a-49c2-ddfd-cbb51dcc1a53"
      },
      "execution_count": 78,
      "outputs": [
        {
          "output_type": "execute_result",
          "data": {
            "text/plain": [
              "['a', 'b', 'c', 'd', 'e', 'f', 'g']"
            ]
          },
          "metadata": {},
          "execution_count": 78
        }
      ]
    },
    {
      "cell_type": "code",
      "source": [
        "'a,b/c,d e/f g'.split('/') #แยกด้วย /"
      ],
      "metadata": {
        "colab": {
          "base_uri": "https://localhost:8080/"
        },
        "id": "9UKYZNcXhS8X",
        "outputId": "04777e0c-53f8-424e-f9d8-ef94f5ed37c6"
      },
      "execution_count": 79,
      "outputs": [
        {
          "output_type": "execute_result",
          "data": {
            "text/plain": [
              "['a,b', 'c,d e', 'f g']"
            ]
          },
          "metadata": {},
          "execution_count": 79
        }
      ]
    }
  ]
}